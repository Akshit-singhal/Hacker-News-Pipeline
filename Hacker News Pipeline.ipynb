{
 "cells": [
  {
   "cell_type": "markdown",
   "id": "afc8c713",
   "metadata": {},
   "source": [
    "### The goal of this project will be to find the \"\"top 100 keywords of Hacker News\".\n",
    "### Because Hacker News is the most popular technology social media site, this will give us an understanding of the most talked about tech topics."
   ]
  },
  {
   "cell_type": "code",
   "execution_count": 1,
   "id": "d0f30967",
   "metadata": {},
   "outputs": [],
   "source": [
    "# importing libraries\n",
    "import nltk\n",
    "from nltk.corpus import stopwords\n",
    "import concurrent.futures\n",
    "import json\n",
    "import requests\n",
    "import csv\n",
    "import itertools\n",
    "from datetime import datetime\n",
    "import time\n",
    "import string\n",
    "import re"
   ]
  },
  {
   "cell_type": "code",
   "execution_count": 2,
   "id": "62deb6fc",
   "metadata": {},
   "outputs": [],
   "source": [
    "# Extending stopwords\n",
    "stop_words = stopwords.words('english')\n",
    "a = ['us','new','could','want','know','use','used','may','hn','using','say','says']\n",
    "stop_words.extend(a)"
   ]
  },
  {
   "cell_type": "code",
   "execution_count": 3,
   "id": "7c03308c",
   "metadata": {},
   "outputs": [],
   "source": [
    "# Creating Pipeline class\n",
    "class Pipeline:\n",
    "    def __init__(self):\n",
    "        self.tasks = []\n",
    "     \n",
    "    \"\"\"this method is used for inserting all the tasks in a tasks list.\"\"\"\n",
    "    def task(self, depends_on=None):\n",
    "        idx = 0\n",
    "        if depends_on:\n",
    "            idx = self.tasks.index(depends_on) + 1\n",
    "        def inner(f):\n",
    "            self.tasks.insert(idx, f)\n",
    "            return f\n",
    "        return inner\n",
    "    \n",
    "    \"\"\"this method is used to run the pipeline. Which takes the input from dependable function output.\"\"\"\n",
    "    def run(self, input_=None):\n",
    "        if input_ is None:\n",
    "            input_ = []\n",
    "        output = input_\n",
    "        for task in self.tasks:\n",
    "            output = task(output) if output else task()\n",
    "        return output"
   ]
  },
  {
   "cell_type": "code",
   "execution_count": 4,
   "id": "5cbb650f",
   "metadata": {},
   "outputs": [],
   "source": [
    "\"\"\"This function is used to dump the data into a csv format\"\"\"\n",
    "def build_csv(lines,file,header=None):\n",
    "    if header:\n",
    "        lines = itertools.chain([header],lines)\n",
    "    writer = csv.writer(file, delimiter=',')\n",
    "    writer.writerows(lines)\n",
    "\n",
    "    file.seek(0)\n",
    "    return file"
   ]
  },
  {
   "cell_type": "code",
   "execution_count": 5,
   "id": "40a4ab70",
   "metadata": {},
   "outputs": [],
   "source": [
    "# Creating pipeline object\n",
    "pipeline = Pipeline()\n",
    "\n",
    "@pipeline.task()\n",
    "def extract_top_stories():\n",
    "    \n",
    "    \"\"\"this function is used to filter out the story on certain parameters\"\"\"\n",
    "    def process_story(item_id, base_url):\n",
    "        resp = session.get(f\"{base_url}item/{item_id}.json\")\n",
    "        story = resp.json()\n",
    "        \n",
    "        # Filtering stories\n",
    "        try:\n",
    "            if story['descendants']>1 and story['score']>50 and not story['title'].startswith('Ask HN'):\n",
    "                return [story['id'], datetime.fromtimestamp(story['time']).strftime('%d/%m/%Y'), \n",
    "                        story['url'], story['score'], story['title']]\n",
    "        except Exception as e:\n",
    "            pass\n",
    "\n",
    "    # Creating a session object\n",
    "    session = requests.Session()\n",
    "    \n",
    "    base_url = \"https://hacker-news.firebaseio.com/v0/\"\n",
    "    top_stories_url = f\"{base_url}/topstories.json\"\n",
    "    response = session.get(top_stories_url)\n",
    "    \n",
    "    # Extracting item_ids of top stories\n",
    "    item_ids = response.json()\n",
    "\n",
    "    # Use a ThreadPoolExecutor to process the stories concurrently\n",
    "    with concurrent.futures.ThreadPoolExecutor(max_workers=20) as executor:\n",
    "        \n",
    "        # Submit a task for each item id\n",
    "        futures = [executor.submit(process_story, item_id, base_url) for item_id in item_ids]\n",
    "\n",
    "        # Iterate through the completed futures and append the results to the lines list\n",
    "        lines = [future.result() for future in concurrent.futures.as_completed(futures) if future.result() is not None]\n",
    "\n",
    "    # Close the session\n",
    "    session.close()\n",
    "\n",
    "    return lines"
   ]
  },
  {
   "cell_type": "code",
   "execution_count": 6,
   "id": "9bd4ade5",
   "metadata": {},
   "outputs": [],
   "source": [
    "@pipeline.task(depends_on=extract_top_stories)\n",
    "def to_csv(lines):\n",
    "    file = open('temporary.csv', 'w+')\n",
    "    csv_file = build_csv(lines, file, header =['id', 'time', 'url','score', 'title'])\n",
    "    return csv_file"
   ]
  },
  {
   "cell_type": "code",
   "execution_count": 7,
   "id": "34ea689c",
   "metadata": {},
   "outputs": [],
   "source": [
    "\"\"\"this function is used to extract tht title from each story\"\"\"\n",
    "@pipeline.task(depends_on=to_csv)\n",
    "def extract_titles(csv_file):\n",
    "    reader = csv.reader(csv_file)\n",
    "    header = next(reader)\n",
    "    idx = header.index('title')\n",
    "    \n",
    "    return (line[idx] for line in reader)"
   ]
  },
  {
   "cell_type": "code",
   "execution_count": 8,
   "id": "ba6c6335",
   "metadata": {},
   "outputs": [],
   "source": [
    "\"\"\"cleanig the title by eliminating any special characters(string.punctuation)\"\"\"\n",
    "@pipeline.task(depends_on=extract_titles)\n",
    "def clean_title(titles):\n",
    "    for title in titles:\n",
    "        clean_title = title.lower()\n",
    "        clean_title = ''.join(c for c in clean_title if c not in string.punctuation + '–')\n",
    "        yield clean_title"
   ]
  },
  {
   "cell_type": "code",
   "execution_count": 9,
   "id": "56bd4cb0",
   "metadata": {},
   "outputs": [],
   "source": [
    "\"\"\"this function is used to build the dictionary of word which are not in stop_words \n",
    "and does not starts with any digits\"\"\"\n",
    "@pipeline.task(depends_on=clean_title)\n",
    "def build_keyword_dictionary(titles):\n",
    "    word_freq = {}\n",
    "    for title in titles:\n",
    "        for word in title.split(' '):\n",
    "            if word and word not in stop_words and not re.match(r\"^\\d\", word):\n",
    "                if word not in word_freq:\n",
    "                    word_freq[word] = 1\n",
    "                word_freq[word] += 1\n",
    "    return word_freq"
   ]
  },
  {
   "cell_type": "code",
   "execution_count": 10,
   "id": "0ff03948",
   "metadata": {},
   "outputs": [],
   "source": [
    "\"\"\"this func is used to sorted the word on the basis of their occurences in story titles in decreasing order\"\"\"\n",
    "@pipeline.task(depends_on=build_keyword_dictionary)\n",
    "def top_keywords(word_freq):\n",
    "    freq_tuple = [(word, word_freq[word])\n",
    "        for word in sorted(word_freq, key=word_freq.get, reverse=True)]\n",
    "    return freq_tuple[:100]"
   ]
  },
  {
   "cell_type": "code",
   "execution_count": 12,
   "id": "69443032",
   "metadata": {},
   "outputs": [
    {
     "name": "stdout",
     "output_type": "stream",
     "text": [
      "output=[('lastpass', 9), ('video', 7), ('users', 6), ('code', 6), ('christmas', 6), ('money', 6), ('microsoft', 5), ('software', 5), ('time', 5), ('ruby', 5), ('life', 5), ('nix', 5), ('app', 5), ('year', 5), ('pdf', 4), ('study', 4), ('ai', 4), ('windows', 4), ('introduction', 4), ('apple', 4), ('released', 4), ('winter', 4), ('search', 4), ('world', 4), ('development', 4), ('protocol', 4), ('law', 4), ('computer', 4), ('data', 4), ('linux', 4), ('machine', 4), ('vaults', 4), ('print', 4), ('tiktok', 4), ('government', 4), ('learning', 4), ('gui', 3), ('os', 3), ('storm', 3), ('save', 3), ('bees', 3), ('writing', 3), ('power', 3), ('state', 3), ('tools', 3), ('games', 3), ('website', 3), ('people', 3), ('finally', 3), ('call', 3), ('soaring', 3), ('see', 3), ('pi', 3), ('deep', 3), ('brain', 3), ('assembly', 3), ('fans', 3), ('nixos', 3), ('pay', 3), ('seven', 3), ('mystery', 3), ('reverse', 3), ('engineering', 3), ('another', 3), ('source', 3), ('hypercard', 3), ('engineer', 3), ('good', 3), ('create', 3), ('back', 3), ('opensource', 3), ('developer', 3), ('demo', 3), ('python', 3), ('water', 3), ('hard', 3), ('died', 3), ('show', 3), ('week', 3), ('scaling', 3), ('points', 3), ('campaign', 3), ('github', 3), ('hacker', 3), ('future', 3), ('chatgpt', 3), ('build', 3), ('crossplatform', 3), ('desktop', 3), ('mastodon', 3), ('twitter', 3), ('california’s', 3), ('design', 3), ('setting', 3), ('passes', 3), ('guidelines', 3), ('programmer', 3), ('things', 3), ('project', 3), ('cold', 3)]\n"
     ]
    }
   ],
   "source": [
    "output = pipeline.run()\n",
    "print(f'{output=}')"
   ]
  },
  {
   "cell_type": "code",
   "execution_count": null,
   "id": "cf15aad9",
   "metadata": {},
   "outputs": [],
   "source": []
  },
  {
   "cell_type": "code",
   "execution_count": null,
   "id": "71cbc24a",
   "metadata": {},
   "outputs": [],
   "source": []
  }
 ],
 "metadata": {
  "kernelspec": {
   "display_name": "Python 3 (ipykernel)",
   "language": "python",
   "name": "python3"
  },
  "language_info": {
   "codemirror_mode": {
    "name": "ipython",
    "version": 3
   },
   "file_extension": ".py",
   "mimetype": "text/x-python",
   "name": "python",
   "nbconvert_exporter": "python",
   "pygments_lexer": "ipython3",
   "version": "3.10.6"
  }
 },
 "nbformat": 4,
 "nbformat_minor": 5
}
